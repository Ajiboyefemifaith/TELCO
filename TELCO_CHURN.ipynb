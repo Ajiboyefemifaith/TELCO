{
  "nbformat": 4,
  "nbformat_minor": 0,
  "metadata": {
    "colab": {
      "name": "TELCO-CHURN.ipynb",
      "provenance": [],
      "collapsed_sections": [],
      "toc_visible": true,
      "authorship_tag": "ABX9TyPVS4nptyd1RE2TzmKG2vED",
      "include_colab_link": true
    },
    "kernelspec": {
      "display_name": "Python 3",
      "name": "python3"
    }
  },
  "cells": [
    {
      "cell_type": "markdown",
      "metadata": {
        "id": "view-in-github",
        "colab_type": "text"
      },
      "source": [
        "<a href=\"https://colab.research.google.com/github/Ajiboyefemifaith/TELCO/blob/main/TELCO_CHURN.ipynb\" target=\"_parent\"><img src=\"https://colab.research.google.com/assets/colab-badge.svg\" alt=\"Open In Colab\"/></a>"
      ]
    },
    {
      "cell_type": "markdown",
      "metadata": {
        "id": "4RhBocM_hIpz"
      },
      "source": [
        "# IMPORTING DATA"
      ]
    },
    {
      "cell_type": "markdown",
      "metadata": {
        "id": "bTFDLNC_Nqo3"
      },
      "source": [
        "Importing libraries for analysis"
      ]
    },
    {
      "cell_type": "code",
      "metadata": {
        "id": "U3d-ZDtXeF9p"
      },
      "source": [
        "import pandas as pd\r\n",
        "import numpy as np\r\n",
        "import matplotlib.pyplot as plt\r\n",
        "import seaborn as sns\r\n",
        "%matplotlib inline"
      ],
      "execution_count": null,
      "outputs": []
    },
    {
      "cell_type": "markdown",
      "metadata": {
        "id": "_HYjW4U7g-B0"
      },
      "source": [
        "Importing data for analysis"
      ]
    },
    {
      "cell_type": "code",
      "metadata": {
        "id": "t137GgHdeeo7"
      },
      "source": [
        "data=pd.read_csv('Telco-Customer-Churn.csv')"
      ],
      "execution_count": null,
      "outputs": []
    },
    {
      "cell_type": "code",
      "metadata": {
        "id": "VorzCsWVNxSL"
      },
      "source": [
        "from google.colab import drive\n",
        "drive.mount('/content/drive')"
      ],
      "execution_count": null,
      "outputs": []
    },
    {
      "cell_type": "markdown",
      "metadata": {
        "id": "GuSGyj40M9BX"
      },
      "source": [
        "# CLEANING DATA"
      ]
    },
    {
      "cell_type": "markdown",
      "metadata": {
        "id": "16oPUS-0hS_J"
      },
      "source": [
        "To view the dataframe"
      ]
    },
    {
      "cell_type": "code",
      "metadata": {
        "colab": {
          "base_uri": "https://localhost:8080/",
          "height": 292
        },
        "id": "b2FN_AmZfmNW",
        "outputId": "2a436307-5f6d-499a-ef9c-716ab0b2111d"
      },
      "source": [
        "data.head()"
      ],
      "execution_count": null,
      "outputs": [
        {
          "output_type": "execute_result",
          "data": {
            "text/html": [
              "<div>\n",
              "<style scoped>\n",
              "    .dataframe tbody tr th:only-of-type {\n",
              "        vertical-align: middle;\n",
              "    }\n",
              "\n",
              "    .dataframe tbody tr th {\n",
              "        vertical-align: top;\n",
              "    }\n",
              "\n",
              "    .dataframe thead th {\n",
              "        text-align: right;\n",
              "    }\n",
              "</style>\n",
              "<table border=\"1\" class=\"dataframe\">\n",
              "  <thead>\n",
              "    <tr style=\"text-align: right;\">\n",
              "      <th></th>\n",
              "      <th>customerID</th>\n",
              "      <th>gender</th>\n",
              "      <th>SeniorCitizen</th>\n",
              "      <th>Partner</th>\n",
              "      <th>Dependents</th>\n",
              "      <th>tenure</th>\n",
              "      <th>PhoneService</th>\n",
              "      <th>MultipleLines</th>\n",
              "      <th>InternetService</th>\n",
              "      <th>OnlineSecurity</th>\n",
              "      <th>OnlineBackup</th>\n",
              "      <th>DeviceProtection</th>\n",
              "      <th>TechSupport</th>\n",
              "      <th>StreamingTV</th>\n",
              "      <th>StreamingMovies</th>\n",
              "      <th>Contract</th>\n",
              "      <th>PaperlessBilling</th>\n",
              "      <th>PaymentMethod</th>\n",
              "      <th>MonthlyCharges</th>\n",
              "      <th>TotalCharges</th>\n",
              "      <th>Churn</th>\n",
              "    </tr>\n",
              "  </thead>\n",
              "  <tbody>\n",
              "    <tr>\n",
              "      <th>0</th>\n",
              "      <td>7590-VHVEG</td>\n",
              "      <td>Female</td>\n",
              "      <td>0</td>\n",
              "      <td>Yes</td>\n",
              "      <td>No</td>\n",
              "      <td>1</td>\n",
              "      <td>No</td>\n",
              "      <td>No phone service</td>\n",
              "      <td>DSL</td>\n",
              "      <td>No</td>\n",
              "      <td>Yes</td>\n",
              "      <td>No</td>\n",
              "      <td>No</td>\n",
              "      <td>No</td>\n",
              "      <td>No</td>\n",
              "      <td>Month-to-month</td>\n",
              "      <td>Yes</td>\n",
              "      <td>Electronic check</td>\n",
              "      <td>29.85</td>\n",
              "      <td>29.85</td>\n",
              "      <td>No</td>\n",
              "    </tr>\n",
              "    <tr>\n",
              "      <th>1</th>\n",
              "      <td>5575-GNVDE</td>\n",
              "      <td>Male</td>\n",
              "      <td>0</td>\n",
              "      <td>No</td>\n",
              "      <td>No</td>\n",
              "      <td>34</td>\n",
              "      <td>Yes</td>\n",
              "      <td>No</td>\n",
              "      <td>DSL</td>\n",
              "      <td>Yes</td>\n",
              "      <td>No</td>\n",
              "      <td>Yes</td>\n",
              "      <td>No</td>\n",
              "      <td>No</td>\n",
              "      <td>No</td>\n",
              "      <td>One year</td>\n",
              "      <td>No</td>\n",
              "      <td>Mailed check</td>\n",
              "      <td>56.95</td>\n",
              "      <td>1889.5</td>\n",
              "      <td>No</td>\n",
              "    </tr>\n",
              "    <tr>\n",
              "      <th>2</th>\n",
              "      <td>3668-QPYBK</td>\n",
              "      <td>Male</td>\n",
              "      <td>0</td>\n",
              "      <td>No</td>\n",
              "      <td>No</td>\n",
              "      <td>2</td>\n",
              "      <td>Yes</td>\n",
              "      <td>No</td>\n",
              "      <td>DSL</td>\n",
              "      <td>Yes</td>\n",
              "      <td>Yes</td>\n",
              "      <td>No</td>\n",
              "      <td>No</td>\n",
              "      <td>No</td>\n",
              "      <td>No</td>\n",
              "      <td>Month-to-month</td>\n",
              "      <td>Yes</td>\n",
              "      <td>Mailed check</td>\n",
              "      <td>53.85</td>\n",
              "      <td>108.15</td>\n",
              "      <td>Yes</td>\n",
              "    </tr>\n",
              "    <tr>\n",
              "      <th>3</th>\n",
              "      <td>7795-CFOCW</td>\n",
              "      <td>Male</td>\n",
              "      <td>0</td>\n",
              "      <td>No</td>\n",
              "      <td>No</td>\n",
              "      <td>45</td>\n",
              "      <td>No</td>\n",
              "      <td>No phone service</td>\n",
              "      <td>DSL</td>\n",
              "      <td>Yes</td>\n",
              "      <td>No</td>\n",
              "      <td>Yes</td>\n",
              "      <td>Yes</td>\n",
              "      <td>No</td>\n",
              "      <td>No</td>\n",
              "      <td>One year</td>\n",
              "      <td>No</td>\n",
              "      <td>Bank transfer (automatic)</td>\n",
              "      <td>42.30</td>\n",
              "      <td>1840.75</td>\n",
              "      <td>No</td>\n",
              "    </tr>\n",
              "    <tr>\n",
              "      <th>4</th>\n",
              "      <td>9237-HQITU</td>\n",
              "      <td>Female</td>\n",
              "      <td>0</td>\n",
              "      <td>No</td>\n",
              "      <td>No</td>\n",
              "      <td>2</td>\n",
              "      <td>Yes</td>\n",
              "      <td>No</td>\n",
              "      <td>Fiber optic</td>\n",
              "      <td>No</td>\n",
              "      <td>No</td>\n",
              "      <td>No</td>\n",
              "      <td>No</td>\n",
              "      <td>No</td>\n",
              "      <td>No</td>\n",
              "      <td>Month-to-month</td>\n",
              "      <td>Yes</td>\n",
              "      <td>Electronic check</td>\n",
              "      <td>70.70</td>\n",
              "      <td>151.65</td>\n",
              "      <td>Yes</td>\n",
              "    </tr>\n",
              "  </tbody>\n",
              "</table>\n",
              "</div>"
            ],
            "text/plain": [
              "   customerID  gender  SeniorCitizen  ... MonthlyCharges TotalCharges  Churn\n",
              "0  7590-VHVEG  Female              0  ...          29.85        29.85     No\n",
              "1  5575-GNVDE    Male              0  ...          56.95       1889.5     No\n",
              "2  3668-QPYBK    Male              0  ...          53.85       108.15    Yes\n",
              "3  7795-CFOCW    Male              0  ...          42.30      1840.75     No\n",
              "4  9237-HQITU  Female              0  ...          70.70       151.65    Yes\n",
              "\n",
              "[5 rows x 21 columns]"
            ]
          },
          "metadata": {
            "tags": []
          },
          "execution_count": 10
        }
      ]
    },
    {
      "cell_type": "markdown",
      "metadata": {
        "id": "dAMtp3mKg4d5"
      },
      "source": [
        "Checking data type\r\n",
        "\r\n"
      ]
    },
    {
      "cell_type": "code",
      "metadata": {
        "colab": {
          "base_uri": "https://localhost:8080/"
        },
        "id": "MWSwJ9bxhi_1",
        "outputId": "beb70523-a3d2-4fbe-ddb1-5425a3c58455"
      },
      "source": [
        "data.dtypes"
      ],
      "execution_count": null,
      "outputs": [
        {
          "output_type": "execute_result",
          "data": {
            "text/plain": [
              "customerID           object\n",
              "gender               object\n",
              "SeniorCitizen         int64\n",
              "Partner              object\n",
              "Dependents           object\n",
              "tenure                int64\n",
              "PhoneService         object\n",
              "MultipleLines        object\n",
              "InternetService      object\n",
              "OnlineSecurity       object\n",
              "OnlineBackup         object\n",
              "DeviceProtection     object\n",
              "TechSupport          object\n",
              "StreamingTV          object\n",
              "StreamingMovies      object\n",
              "Contract             object\n",
              "PaperlessBilling     object\n",
              "PaymentMethod        object\n",
              "MonthlyCharges      float64\n",
              "TotalCharges         object\n",
              "Churn                object\n",
              "dtype: object"
            ]
          },
          "metadata": {
            "tags": []
          },
          "execution_count": 11
        }
      ]
    },
    {
      "cell_type": "markdown",
      "metadata": {
        "id": "ViZOmveSi8KX"
      },
      "source": [
        "Converting 'TotalCharges' from object to float "
      ]
    },
    {
      "cell_type": "code",
      "metadata": {
        "id": "iWNVzLvCqB7E"
      },
      "source": [
        "data['TotalCharges']=pd.to_numeric(data['TotalCharges'], errors='coerce')"
      ],
      "execution_count": null,
      "outputs": []
    },
    {
      "cell_type": "markdown",
      "metadata": {
        "id": "e_YMGWYQh9CR"
      },
      "source": [
        "Checking dimensions"
      ]
    },
    {
      "cell_type": "code",
      "metadata": {
        "colab": {
          "base_uri": "https://localhost:8080/"
        },
        "id": "iimYmpqJhmEA",
        "outputId": "9bcf31e8-ebe5-4718-f9e8-aadfc8b0b444"
      },
      "source": [
        "data.shape"
      ],
      "execution_count": null,
      "outputs": [
        {
          "output_type": "execute_result",
          "data": {
            "text/plain": [
              "(7043, 21)"
            ]
          },
          "metadata": {
            "tags": []
          },
          "execution_count": 14
        }
      ]
    },
    {
      "cell_type": "markdown",
      "metadata": {
        "id": "9jLLootziJms"
      },
      "source": [
        "Checking features"
      ]
    },
    {
      "cell_type": "code",
      "metadata": {
        "colab": {
          "base_uri": "https://localhost:8080/"
        },
        "id": "ypXCaTa-iEHb",
        "outputId": "69eddd65-cdfc-4332-aff1-bbaa73c6a4c7"
      },
      "source": [
        "data.columns"
      ],
      "execution_count": null,
      "outputs": [
        {
          "output_type": "execute_result",
          "data": {
            "text/plain": [
              "Index(['customerID', 'gender', 'SeniorCitizen', 'Partner', 'Dependents',\n",
              "       'tenure', 'PhoneService', 'MultipleLines', 'InternetService',\n",
              "       'OnlineSecurity', 'OnlineBackup', 'DeviceProtection', 'TechSupport',\n",
              "       'StreamingTV', 'StreamingMovies', 'Contract', 'PaperlessBilling',\n",
              "       'PaymentMethod', 'MonthlyCharges', 'TotalCharges', 'Churn'],\n",
              "      dtype='object')"
            ]
          },
          "metadata": {
            "tags": []
          },
          "execution_count": 15
        }
      ]
    },
    {
      "cell_type": "markdown",
      "metadata": {
        "id": "_WKchhxAiYdd"
      },
      "source": [
        "Checking information"
      ]
    },
    {
      "cell_type": "code",
      "metadata": {
        "colab": {
          "base_uri": "https://localhost:8080/"
        },
        "id": "wvvqL0jtiRxm",
        "outputId": "86e1607e-8441-4201-ed4d-10b59967c98b"
      },
      "source": [
        "data.info()"
      ],
      "execution_count": null,
      "outputs": [
        {
          "output_type": "stream",
          "text": [
            "<class 'pandas.core.frame.DataFrame'>\n",
            "RangeIndex: 7043 entries, 0 to 7042\n",
            "Data columns (total 21 columns):\n",
            " #   Column            Non-Null Count  Dtype  \n",
            "---  ------            --------------  -----  \n",
            " 0   customerID        7043 non-null   object \n",
            " 1   gender            7043 non-null   object \n",
            " 2   SeniorCitizen     7043 non-null   int64  \n",
            " 3   Partner           7043 non-null   object \n",
            " 4   Dependents        7043 non-null   object \n",
            " 5   tenure            7043 non-null   int64  \n",
            " 6   PhoneService      7043 non-null   object \n",
            " 7   MultipleLines     7043 non-null   object \n",
            " 8   InternetService   7043 non-null   object \n",
            " 9   OnlineSecurity    7043 non-null   object \n",
            " 10  OnlineBackup      7043 non-null   object \n",
            " 11  DeviceProtection  7043 non-null   object \n",
            " 12  TechSupport       7043 non-null   object \n",
            " 13  StreamingTV       7043 non-null   object \n",
            " 14  StreamingMovies   7043 non-null   object \n",
            " 15  Contract          7043 non-null   object \n",
            " 16  PaperlessBilling  7043 non-null   object \n",
            " 17  PaymentMethod     7043 non-null   object \n",
            " 18  MonthlyCharges    7043 non-null   float64\n",
            " 19  TotalCharges      7032 non-null   float64\n",
            " 20  Churn             7043 non-null   object \n",
            "dtypes: float64(2), int64(2), object(17)\n",
            "memory usage: 1.1+ MB\n"
          ],
          "name": "stdout"
        }
      ]
    },
    {
      "cell_type": "markdown",
      "metadata": {
        "id": "f3uwXDL7iTi0"
      },
      "source": [
        "Checking summary statsistics"
      ]
    },
    {
      "cell_type": "code",
      "metadata": {
        "colab": {
          "base_uri": "https://localhost:8080/",
          "height": 277
        },
        "id": "SiWBFjFUirhX",
        "outputId": "0f7ab53c-0562-4125-d288-dc61a293b741"
      },
      "source": [
        "data.describe()"
      ],
      "execution_count": null,
      "outputs": [
        {
          "output_type": "execute_result",
          "data": {
            "text/html": [
              "<div>\n",
              "<style scoped>\n",
              "    .dataframe tbody tr th:only-of-type {\n",
              "        vertical-align: middle;\n",
              "    }\n",
              "\n",
              "    .dataframe tbody tr th {\n",
              "        vertical-align: top;\n",
              "    }\n",
              "\n",
              "    .dataframe thead th {\n",
              "        text-align: right;\n",
              "    }\n",
              "</style>\n",
              "<table border=\"1\" class=\"dataframe\">\n",
              "  <thead>\n",
              "    <tr style=\"text-align: right;\">\n",
              "      <th></th>\n",
              "      <th>SeniorCitizen</th>\n",
              "      <th>tenure</th>\n",
              "      <th>MonthlyCharges</th>\n",
              "      <th>TotalCharges</th>\n",
              "    </tr>\n",
              "  </thead>\n",
              "  <tbody>\n",
              "    <tr>\n",
              "      <th>count</th>\n",
              "      <td>7043.000000</td>\n",
              "      <td>7043.000000</td>\n",
              "      <td>7043.000000</td>\n",
              "      <td>7032.000000</td>\n",
              "    </tr>\n",
              "    <tr>\n",
              "      <th>mean</th>\n",
              "      <td>0.162147</td>\n",
              "      <td>32.371149</td>\n",
              "      <td>64.761692</td>\n",
              "      <td>2283.300441</td>\n",
              "    </tr>\n",
              "    <tr>\n",
              "      <th>std</th>\n",
              "      <td>0.368612</td>\n",
              "      <td>24.559481</td>\n",
              "      <td>30.090047</td>\n",
              "      <td>2266.771362</td>\n",
              "    </tr>\n",
              "    <tr>\n",
              "      <th>min</th>\n",
              "      <td>0.000000</td>\n",
              "      <td>0.000000</td>\n",
              "      <td>18.250000</td>\n",
              "      <td>18.800000</td>\n",
              "    </tr>\n",
              "    <tr>\n",
              "      <th>25%</th>\n",
              "      <td>0.000000</td>\n",
              "      <td>9.000000</td>\n",
              "      <td>35.500000</td>\n",
              "      <td>401.450000</td>\n",
              "    </tr>\n",
              "    <tr>\n",
              "      <th>50%</th>\n",
              "      <td>0.000000</td>\n",
              "      <td>29.000000</td>\n",
              "      <td>70.350000</td>\n",
              "      <td>1397.475000</td>\n",
              "    </tr>\n",
              "    <tr>\n",
              "      <th>75%</th>\n",
              "      <td>0.000000</td>\n",
              "      <td>55.000000</td>\n",
              "      <td>89.850000</td>\n",
              "      <td>3794.737500</td>\n",
              "    </tr>\n",
              "    <tr>\n",
              "      <th>max</th>\n",
              "      <td>1.000000</td>\n",
              "      <td>72.000000</td>\n",
              "      <td>118.750000</td>\n",
              "      <td>8684.800000</td>\n",
              "    </tr>\n",
              "  </tbody>\n",
              "</table>\n",
              "</div>"
            ],
            "text/plain": [
              "       SeniorCitizen       tenure  MonthlyCharges  TotalCharges\n",
              "count    7043.000000  7043.000000     7043.000000   7032.000000\n",
              "mean        0.162147    32.371149       64.761692   2283.300441\n",
              "std         0.368612    24.559481       30.090047   2266.771362\n",
              "min         0.000000     0.000000       18.250000     18.800000\n",
              "25%         0.000000     9.000000       35.500000    401.450000\n",
              "50%         0.000000    29.000000       70.350000   1397.475000\n",
              "75%         0.000000    55.000000       89.850000   3794.737500\n",
              "max         1.000000    72.000000      118.750000   8684.800000"
            ]
          },
          "metadata": {
            "tags": []
          },
          "execution_count": 18
        }
      ]
    },
    {
      "cell_type": "markdown",
      "metadata": {
        "id": "XS2KPu551V5x"
      },
      "source": [
        "To check for null values"
      ]
    },
    {
      "cell_type": "code",
      "metadata": {
        "colab": {
          "base_uri": "https://localhost:8080/"
        },
        "id": "hg3gMB411ge7",
        "outputId": "c60c3a1f-3fec-45f9-d6e0-68efd23b8f51"
      },
      "source": [
        "data.isnull().sum()"
      ],
      "execution_count": null,
      "outputs": [
        {
          "output_type": "execute_result",
          "data": {
            "text/plain": [
              "customerID           0\n",
              "gender               0\n",
              "SeniorCitizen        0\n",
              "Partner              0\n",
              "Dependents           0\n",
              "tenure               0\n",
              "PhoneService         0\n",
              "MultipleLines        0\n",
              "InternetService      0\n",
              "OnlineSecurity       0\n",
              "OnlineBackup         0\n",
              "DeviceProtection     0\n",
              "TechSupport          0\n",
              "StreamingTV          0\n",
              "StreamingMovies      0\n",
              "Contract             0\n",
              "PaperlessBilling     0\n",
              "PaymentMethod        0\n",
              "MonthlyCharges       0\n",
              "TotalCharges        11\n",
              "Churn                0\n",
              "dtype: int64"
            ]
          },
          "metadata": {
            "tags": []
          },
          "execution_count": 19
        }
      ]
    },
    {
      "cell_type": "markdown",
      "metadata": {
        "id": "qfUq-nL02Te8"
      },
      "source": [
        "To drop columns with missing values since the value obtained is almost insignificant to the total length of the dataframe"
      ]
    },
    {
      "cell_type": "code",
      "metadata": {
        "id": "qg3uX3vi1k49"
      },
      "source": [
        "data=data.dropna(axis=0,how='any')"
      ],
      "execution_count": null,
      "outputs": []
    },
    {
      "cell_type": "code",
      "metadata": {
        "colab": {
          "base_uri": "https://localhost:8080/",
          "height": 292
        },
        "id": "4JeKEBeU24uw",
        "outputId": "4982d442-dc7f-471b-c7d1-027d5d6e53a6"
      },
      "source": [
        "data.head()"
      ],
      "execution_count": null,
      "outputs": [
        {
          "output_type": "execute_result",
          "data": {
            "text/html": [
              "<div>\n",
              "<style scoped>\n",
              "    .dataframe tbody tr th:only-of-type {\n",
              "        vertical-align: middle;\n",
              "    }\n",
              "\n",
              "    .dataframe tbody tr th {\n",
              "        vertical-align: top;\n",
              "    }\n",
              "\n",
              "    .dataframe thead th {\n",
              "        text-align: right;\n",
              "    }\n",
              "</style>\n",
              "<table border=\"1\" class=\"dataframe\">\n",
              "  <thead>\n",
              "    <tr style=\"text-align: right;\">\n",
              "      <th></th>\n",
              "      <th>customerID</th>\n",
              "      <th>gender</th>\n",
              "      <th>SeniorCitizen</th>\n",
              "      <th>Partner</th>\n",
              "      <th>Dependents</th>\n",
              "      <th>tenure</th>\n",
              "      <th>PhoneService</th>\n",
              "      <th>MultipleLines</th>\n",
              "      <th>InternetService</th>\n",
              "      <th>OnlineSecurity</th>\n",
              "      <th>OnlineBackup</th>\n",
              "      <th>DeviceProtection</th>\n",
              "      <th>TechSupport</th>\n",
              "      <th>StreamingTV</th>\n",
              "      <th>StreamingMovies</th>\n",
              "      <th>Contract</th>\n",
              "      <th>PaperlessBilling</th>\n",
              "      <th>PaymentMethod</th>\n",
              "      <th>MonthlyCharges</th>\n",
              "      <th>TotalCharges</th>\n",
              "      <th>Churn</th>\n",
              "    </tr>\n",
              "  </thead>\n",
              "  <tbody>\n",
              "    <tr>\n",
              "      <th>0</th>\n",
              "      <td>7590-VHVEG</td>\n",
              "      <td>Female</td>\n",
              "      <td>0</td>\n",
              "      <td>Yes</td>\n",
              "      <td>No</td>\n",
              "      <td>1</td>\n",
              "      <td>No</td>\n",
              "      <td>No phone service</td>\n",
              "      <td>DSL</td>\n",
              "      <td>No</td>\n",
              "      <td>Yes</td>\n",
              "      <td>No</td>\n",
              "      <td>No</td>\n",
              "      <td>No</td>\n",
              "      <td>No</td>\n",
              "      <td>Month-to-month</td>\n",
              "      <td>Yes</td>\n",
              "      <td>Electronic check</td>\n",
              "      <td>29.85</td>\n",
              "      <td>29.85</td>\n",
              "      <td>No</td>\n",
              "    </tr>\n",
              "    <tr>\n",
              "      <th>1</th>\n",
              "      <td>5575-GNVDE</td>\n",
              "      <td>Male</td>\n",
              "      <td>0</td>\n",
              "      <td>No</td>\n",
              "      <td>No</td>\n",
              "      <td>34</td>\n",
              "      <td>Yes</td>\n",
              "      <td>No</td>\n",
              "      <td>DSL</td>\n",
              "      <td>Yes</td>\n",
              "      <td>No</td>\n",
              "      <td>Yes</td>\n",
              "      <td>No</td>\n",
              "      <td>No</td>\n",
              "      <td>No</td>\n",
              "      <td>One year</td>\n",
              "      <td>No</td>\n",
              "      <td>Mailed check</td>\n",
              "      <td>56.95</td>\n",
              "      <td>1889.50</td>\n",
              "      <td>No</td>\n",
              "    </tr>\n",
              "    <tr>\n",
              "      <th>2</th>\n",
              "      <td>3668-QPYBK</td>\n",
              "      <td>Male</td>\n",
              "      <td>0</td>\n",
              "      <td>No</td>\n",
              "      <td>No</td>\n",
              "      <td>2</td>\n",
              "      <td>Yes</td>\n",
              "      <td>No</td>\n",
              "      <td>DSL</td>\n",
              "      <td>Yes</td>\n",
              "      <td>Yes</td>\n",
              "      <td>No</td>\n",
              "      <td>No</td>\n",
              "      <td>No</td>\n",
              "      <td>No</td>\n",
              "      <td>Month-to-month</td>\n",
              "      <td>Yes</td>\n",
              "      <td>Mailed check</td>\n",
              "      <td>53.85</td>\n",
              "      <td>108.15</td>\n",
              "      <td>Yes</td>\n",
              "    </tr>\n",
              "    <tr>\n",
              "      <th>3</th>\n",
              "      <td>7795-CFOCW</td>\n",
              "      <td>Male</td>\n",
              "      <td>0</td>\n",
              "      <td>No</td>\n",
              "      <td>No</td>\n",
              "      <td>45</td>\n",
              "      <td>No</td>\n",
              "      <td>No phone service</td>\n",
              "      <td>DSL</td>\n",
              "      <td>Yes</td>\n",
              "      <td>No</td>\n",
              "      <td>Yes</td>\n",
              "      <td>Yes</td>\n",
              "      <td>No</td>\n",
              "      <td>No</td>\n",
              "      <td>One year</td>\n",
              "      <td>No</td>\n",
              "      <td>Bank transfer (automatic)</td>\n",
              "      <td>42.30</td>\n",
              "      <td>1840.75</td>\n",
              "      <td>No</td>\n",
              "    </tr>\n",
              "    <tr>\n",
              "      <th>4</th>\n",
              "      <td>9237-HQITU</td>\n",
              "      <td>Female</td>\n",
              "      <td>0</td>\n",
              "      <td>No</td>\n",
              "      <td>No</td>\n",
              "      <td>2</td>\n",
              "      <td>Yes</td>\n",
              "      <td>No</td>\n",
              "      <td>Fiber optic</td>\n",
              "      <td>No</td>\n",
              "      <td>No</td>\n",
              "      <td>No</td>\n",
              "      <td>No</td>\n",
              "      <td>No</td>\n",
              "      <td>No</td>\n",
              "      <td>Month-to-month</td>\n",
              "      <td>Yes</td>\n",
              "      <td>Electronic check</td>\n",
              "      <td>70.70</td>\n",
              "      <td>151.65</td>\n",
              "      <td>Yes</td>\n",
              "    </tr>\n",
              "  </tbody>\n",
              "</table>\n",
              "</div>"
            ],
            "text/plain": [
              "   customerID  gender  SeniorCitizen  ... MonthlyCharges TotalCharges  Churn\n",
              "0  7590-VHVEG  Female              0  ...          29.85        29.85     No\n",
              "1  5575-GNVDE    Male              0  ...          56.95      1889.50     No\n",
              "2  3668-QPYBK    Male              0  ...          53.85       108.15    Yes\n",
              "3  7795-CFOCW    Male              0  ...          42.30      1840.75     No\n",
              "4  9237-HQITU  Female              0  ...          70.70       151.65    Yes\n",
              "\n",
              "[5 rows x 21 columns]"
            ]
          },
          "metadata": {
            "tags": []
          },
          "execution_count": 25
        }
      ]
    },
    {
      "cell_type": "markdown",
      "metadata": {
        "id": "Calk7d40S1Ib"
      },
      "source": [
        "# EXPLORATORY DATA ANALYSIS"
      ]
    },
    {
      "cell_type": "markdown",
      "metadata": {
        "id": "EvVCn2SffuYI"
      },
      "source": [
        "# Target variable"
      ]
    },
    {
      "cell_type": "markdown",
      "metadata": {
        "id": "02N1XrYWS76_"
      },
      "source": [
        "The dataset has been categorized into 3 major heads and this heads contains information about Demography of the customers, account infomation and the services that each customer has signed up for. The column churn represent the customers who has left the company within the last month. The \"Churn\" column is our target.\r\n",
        "\r\n",
        "Let's visualize how frequently customers has left the company."
      ]
    },
    {
      "cell_type": "code",
      "metadata": {
        "colab": {
          "base_uri": "https://localhost:8080/",
          "height": 497
        },
        "id": "tmySi4lYS5ib",
        "outputId": "cede6be3-8ae3-43b9-9274-402fedf43e4d"
      },
      "source": [
        "sns.countplot(x='Churn',data=data, palette='Spectral')\r\n",
        "plt.rcParams['figure.figsize']=15,8\r\n",
        "sns.set_style('darkgrid' )"
      ],
      "execution_count": null,
      "outputs": [
        {
          "output_type": "display_data",
          "data": {
            "image/png": "[encoded data removed]",
            "text/plain": [
              "<Figure size 1080x576 with 1 Axes>"
            ]
          },
          "metadata": {
            "tags": []
          }
        }
      ]
    },
    {
      "cell_type": "markdown",
      "metadata": {
        "id": "BL1kYpsma_bE"
      },
      "source": [
        "This chart shows us the number of customers (male and female) that has left the company(Yes) and those that are still with the company(No). The number of those that has left the company is relatively small compared to those that are still with the company."
      ]
    },
    {
      "cell_type": "markdown",
      "metadata": {
        "id": "G_Aspoq4flp8"
      },
      "source": [
        "# Predictor variables"
      ]
    },
    {
      "cell_type": "markdown",
      "metadata": {
        "id": "5mpSGnfmUcDY"
      },
      "source": [
        "These variables would help us investigate why customers are leaving the company."
      ]
    },
    {
      "cell_type": "markdown",
      "metadata": {
        "id": "jK7ZZgTPpACG"
      },
      "source": [
        "Senior citizen"
      ]
    },
    {
      "cell_type": "markdown",
      "metadata": {
        "id": "cDGZEGotf4yD"
      },
      "source": [
        "These are citizens that are 65 years and above. let's determine if being a senior citizen has anything to do with why customers are leaving the company."
      ]
    },
    {
      "cell_type": "code",
      "metadata": {
        "colab": {
          "base_uri": "https://localhost:8080/",
          "height": 513
        },
        "id": "fHF6FjlsTy_c",
        "outputId": "a82bdb9d-1afa-446d-afbc-4f9ed3b9fa3f"
      },
      "source": [
        "sns.countplot(x='SeniorCitizen',data=data,hue='Churn')"
      ],
      "execution_count": null,
      "outputs": [
        {
          "output_type": "execute_result",
          "data": {
            "text/plain": [
              "<matplotlib.axes._subplots.AxesSubplot at 0x7f43da652f98>"
            ]
          },
          "metadata": {
            "tags": []
          },
          "execution_count": 65
        },
        {
          "output_type": "display_data",
          "data": {
            "image/png": "[encoded data removed]",
            "text/plain": [
              "<Figure size 1080x576 with 1 Axes>"
            ]
          },
          "metadata": {
            "tags": []
          }
        }
      ]
    },
    {
      "cell_type": "markdown",
      "metadata": {
        "id": "6HQavQ_ZmT06"
      },
      "source": [
        "From the chart we can deduce that the total number of senior citizen(1) is small compared to the whole population of Telco's customers and also the proportion of the churned senior citizen is small compared to the total churned customers. This doesnt explain why customers are leaving the company"
      ]
    },
    {
      "cell_type": "markdown",
      "metadata": {
        "id": "3w5hPri2pkzX"
      },
      "source": [
        "Gender\r\n"
      ]
    },
    {
      "cell_type": "markdown",
      "metadata": {
        "id": "62pw9AfUpxW2"
      },
      "source": [
        "Does the gender of customers have anything to do with churning?"
      ]
    },
    {
      "cell_type": "code",
      "metadata": {
        "colab": {
          "base_uri": "https://localhost:8080/",
          "height": 513
        },
        "id": "zAxPyN0Ug4i6",
        "outputId": "eb6cac44-71bd-4ea1-b2c6-048dddf698d7"
      },
      "source": [
        "sns.countplot(x='gender',data=data, hue='Churn',palette=\"gist_rainbow\")"
      ],
      "execution_count": null,
      "outputs": [
        {
          "output_type": "execute_result",
          "data": {
            "text/plain": [
              "<matplotlib.axes._subplots.AxesSubplot at 0x7f43d16d5b00>"
            ]
          },
          "metadata": {
            "tags": []
          },
          "execution_count": 89
        },
        {
          "output_type": "display_data",
          "data": {
            "image/png": "[encoded data removed]",
            "text/plain": [
              "<Figure size 1080x576 with 1 Axes>"
            ]
          },
          "metadata": {
            "tags": []
          }
        }
      ]
    },
    {
      "cell_type": "markdown",
      "metadata": {
        "id": "9t_M9gjwqEUP"
      },
      "source": [
        "Telco has almost the same proportion of both genders.The number of churned customers both male and female is almost the same. This doesnt explain why customers are leaving."
      ]
    },
    {
      "cell_type": "markdown",
      "metadata": {
        "id": "LjmWon33rVzl"
      },
      "source": [
        "Partner\r\n"
      ]
    },
    {
      "cell_type": "markdown",
      "metadata": {
        "id": "qdov6JEXrYkY"
      },
      "source": [
        "This represent the population of Telco\"s customers that are married or have a partner. Does this have anything to do with why they left the company?"
      ]
    },
    {
      "cell_type": "code",
      "metadata": {
        "colab": {
          "base_uri": "https://localhost:8080/",
          "height": 513
        },
        "id": "iPwdyPM6nu9g",
        "outputId": "142471bf-7544-4608-d7ff-af8ab8a1408a"
      },
      "source": [
        "sns.countplot(x='Partner',data=data, hue=\"Churn\", palette='inferno' )"
      ],
      "execution_count": null,
      "outputs": [
        {
          "output_type": "execute_result",
          "data": {
            "text/plain": [
              "<matplotlib.axes._subplots.AxesSubplot at 0x7f43d18f3208>"
            ]
          },
          "metadata": {
            "tags": []
          },
          "execution_count": 78
        },
        {
          "output_type": "display_data",
          "data": {
            "image/png": "[encoded data removed]",
            "text/plain": [
              "<Figure size 1080x576 with 1 Axes>"
            ]
          },
          "metadata": {
            "tags": []
          }
        }
      ]
    },
    {
      "cell_type": "markdown",
      "metadata": {
        "id": "YRVsc0jvsQmJ"
      },
      "source": [
        "Majority of Telco's customers have a partner. We can see from our visualization that people without partners are more like to leave the company."
      ]
    },
    {
      "cell_type": "markdown",
      "metadata": {
        "id": "C89yj94kz_zi"
      },
      "source": [
        "Dependents"
      ]
    },
    {
      "cell_type": "markdown",
      "metadata": {
        "id": "TExTCjIT0DHE"
      },
      "source": [
        "This column tells us whether customers have anybody relying on them for financial support. "
      ]
    },
    {
      "cell_type": "code",
      "metadata": {
        "colab": {
          "base_uri": "https://localhost:8080/",
          "height": 513
        },
        "id": "vA9IIh7xr__X",
        "outputId": "643bce65-58f2-444c-9791-bd3cd9ac16a2"
      },
      "source": [
        "sns.countplot(x=\"Dependents\", data=data, hue='Churn', palette='bone' )"
      ],
      "execution_count": null,
      "outputs": [
        {
          "output_type": "execute_result",
          "data": {
            "text/plain": [
              "<matplotlib.axes._subplots.AxesSubplot at 0x7f43d162d2b0>"
            ]
          },
          "metadata": {
            "tags": []
          },
          "execution_count": 93
        },
        {
          "output_type": "display_data",
          "data": {
            "image/png": "[encoded data removed]",
            "text/plain": [
              "<Figure size 1080x576 with 1 Axes>"
            ]
          },
          "metadata": {
            "tags": []
          }
        }
      ]
    },
    {
      "cell_type": "markdown",
      "metadata": {
        "id": "8ejMTBq603ld"
      },
      "source": [
        "A small proportion of those who have dependents on them have left the company. Telco has a large number of customers who do not have dependents.Quite a number of these people have churned.This doesnt tell us why customers are leaving."
      ]
    },
    {
      "cell_type": "markdown",
      "metadata": {
        "id": "_y_NnU3B2l3e"
      },
      "source": [
        "Tenure"
      ]
    },
    {
      "cell_type": "markdown",
      "metadata": {
        "id": "KH1RqJnV3Txr"
      },
      "source": [
        "This represent the number of months that a customer has spent with the company. This column consist of numerical variables. Let's visualize the distribution"
      ]
    },
    {
      "cell_type": "code",
      "metadata": {
        "colab": {
          "base_uri": "https://localhost:8080/",
          "height": 745
        },
        "id": "ZcEdt5lF7xer",
        "outputId": "6866f018-60df-41f7-f649-559f74c6a616"
      },
      "source": [
        "sns.displot(x='tenure', data=data, height=10, aspect=1)"
      ],
      "execution_count": null,
      "outputs": [
        {
          "output_type": "execute_result",
          "data": {
            "text/plain": [
              "<seaborn.axisgrid.FacetGrid at 0x7fe3efd994e0>"
            ]
          },
          "metadata": {
            "tags": []
          },
          "execution_count": 35
        },
        {
          "output_type": "display_data",
          "data": {
            "image/png": "[encoded data removed]",
            "text/plain": [
              "<Figure size 720x720 with 1 Axes>"
            ]
          },
          "metadata": {
            "tags": []
          }
        }
      ]
    },
    {
      "cell_type": "code",
      "metadata": {
        "colab": {
          "base_uri": "https://localhost:8080/",
          "height": 513
        },
        "id": "-b7G-ELN0iJi",
        "outputId": "3ff55c87-30e7-4bb6-b775-1f8b05a1e5bc"
      },
      "source": [
        "sns.countplot(data=data,x=\"tenure\",hue='Churn')"
      ],
      "execution_count": null,
      "outputs": [
        {
          "output_type": "execute_result",
          "data": {
            "text/plain": [
              "<matplotlib.axes._subplots.AxesSubplot at 0x7f43d13edba8>"
            ]
          },
          "metadata": {
            "tags": []
          },
          "execution_count": 102
        },
        {
          "output_type": "display_data",
          "data": {
            "image/png": "[encoded data removed]",
            "text/plain": [
              "<Figure size 1080x576 with 1 Axes>"
            ]
          },
          "metadata": {
            "tags": []
          }
        }
      ]
    },
    {
      "cell_type": "markdown",
      "metadata": {
        "id": "8subcESD8hNh"
      },
      "source": [
        "We can see from the chart that the number of customers that churned after their first subscription is higher than those who stayed back. This can be observed in the second month as well. Customers that have spent only a few months with the company will likely churn.The rate at which new customers churn is very high. Customers that have spent a lot of time with the company are less likely to churn while recent customers would most likely churn."
      ]
    },
    {
      "cell_type": "markdown",
      "metadata": {
        "id": "vxojHPNGB243"
      },
      "source": [
        "Phone service\r\n"
      ]
    },
    {
      "cell_type": "markdown",
      "metadata": {
        "id": "l5BLnyFiB7ou"
      },
      "source": [
        "This represents whether the customers make use of a phone service or not."
      ]
    },
    {
      "cell_type": "code",
      "metadata": {
        "colab": {
          "base_uri": "https://localhost:8080/",
          "height": 513
        },
        "id": "U097gJMS5MnN",
        "outputId": "eb08f564-3077-4ce7-f953-f831d8999091"
      },
      "source": [
        "sns.countplot(x=\"PhoneService\",data=data, hue='Churn', palette='YlOrBr')"
      ],
      "execution_count": null,
      "outputs": [
        {
          "output_type": "execute_result",
          "data": {
            "text/plain": [
              "<matplotlib.axes._subplots.AxesSubplot at 0x7fe3efd35908>"
            ]
          },
          "metadata": {
            "tags": []
          },
          "execution_count": 37
        },
        {
          "output_type": "display_data",
          "data": {
            "image/png": "[encoded data removed]",
            "text/plain": [
              "<Figure size 1080x576 with 1 Axes>"
            ]
          },
          "metadata": {
            "tags": []
          }
        }
      ]
    },
    {
      "cell_type": "markdown",
      "metadata": {
        "id": "JR_ImqN5C014"
      },
      "source": [
        "A high proportion of the customer population use the phone service. This doesnt really tell us if there is a relationship between phone service and churn."
      ]
    },
    {
      "cell_type": "markdown",
      "metadata": {
        "id": "jJJq0NpkDXrr"
      },
      "source": [
        "Multiple lines"
      ]
    },
    {
      "cell_type": "markdown",
      "metadata": {
        "id": "WVeyFMr3GfzS"
      },
      "source": [
        " This column represent whether customers use multiple lines or use no phone service. Could this be the reaseon why customers churn?"
      ]
    },
    {
      "cell_type": "code",
      "metadata": {
        "colab": {
          "base_uri": "https://localhost:8080/",
          "height": 513
        },
        "id": "GWzDrQvoCpiw",
        "outputId": "47e3b67d-e816-460b-a579-b5c760090150"
      },
      "source": [
        "sns.countplot(x='MultipleLines',data=data, hue='Churn', palette='OrRd')"
      ],
      "execution_count": null,
      "outputs": [
        {
          "output_type": "execute_result",
          "data": {
            "text/plain": [
              "<matplotlib.axes._subplots.AxesSubplot at 0x7f15556d30b8>"
            ]
          },
          "metadata": {
            "tags": []
          },
          "execution_count": 17
        },
        {
          "output_type": "display_data",
          "data": {
            "image/png": "[encoded data removed]",
            "text/plain": [
              "<Figure size 1080x576 with 1 Axes>"
            ]
          },
          "metadata": {
            "tags": []
          }
        }
      ]
    },
    {
      "cell_type": "markdown",
      "metadata": {
        "id": "WmrRkyIaHDr3"
      },
      "source": [
        "A very small proportion of the customer population do use use phone service at all.This doesn't really explain why customers are leaving the company since customers that have multiple lines and those that do not have will likely churn at the same rate. Customers might actually be leaving the company because they have to pay a high rate for using multiple lines. let's see if monthly charges contributes to churning of those using multiple lines."
      ]
    },
    {
      "cell_type": "code",
      "metadata": {
        "colab": {
          "base_uri": "https://localhost:8080/",
          "height": 385
        },
        "id": "8UD64h9M6lFc",
        "outputId": "ca041fe0-d7b6-46cf-ed30-f13416e7c5e8"
      },
      "source": [
        "sns.displot(data=data, x='MonthlyCharges',hue='Churn',col='MultipleLines', palette='inferno')"
      ],
      "execution_count": null,
      "outputs": [
        {
          "output_type": "execute_result",
          "data": {
            "text/plain": [
              "<seaborn.axisgrid.FacetGrid at 0x7f153e1d2b38>"
            ]
          },
          "metadata": {
            "tags": []
          },
          "execution_count": 82
        },
        {
          "output_type": "display_data",
          "data": {
            "image/png": "[encoded data removed]",
            "text/plain": [
              "<Figure size 1132x360 with 3 Axes>"
            ]
          },
          "metadata": {
            "tags": []
          }
        }
      ]
    },
    {
      "cell_type": "markdown",
      "metadata": {
        "id": "4fb4dU0v7QIL"
      },
      "source": [
        "Customers with multiples lines tend to pay more monthly charges than those who do not have and those who doesnt use phone service."
      ]
    },
    {
      "cell_type": "markdown",
      "metadata": {
        "id": "tvO3FZDrHcEl"
      },
      "source": [
        "Internet service"
      ]
    },
    {
      "cell_type": "markdown",
      "metadata": {
        "id": "tJD-ocCpIqpz"
      },
      "source": [
        "This represents the internet service that each customer use which could be Fibre optic, DSL or none . Let's visualize if there is a relationship between this and churn."
      ]
    },
    {
      "cell_type": "code",
      "metadata": {
        "id": "-A14ybxYEcmX",
        "colab": {
          "base_uri": "https://localhost:8080/",
          "height": 513
        },
        "outputId": "fd026c6b-fe17-4beb-844e-2fb36a62e422"
      },
      "source": [
        "sns.countplot(data=data, x='InternetService', hue='Churn', palette='autumn')"
      ],
      "execution_count": null,
      "outputs": [
        {
          "output_type": "execute_result",
          "data": {
            "text/plain": [
              "<matplotlib.axes._subplots.AxesSubplot at 0x7fe3efd82080>"
            ]
          },
          "metadata": {
            "tags": []
          },
          "execution_count": 38
        },
        {
          "output_type": "display_data",
          "data": {
            "image/png": "[encoded data removed]",
            "text/plain": [
              "<Figure size 1080x576 with 1 Axes>"
            ]
          },
          "metadata": {
            "tags": []
          }
        }
      ]
    },
    {
      "cell_type": "markdown",
      "metadata": {
        "id": "_gRjWkZmJ7X0"
      },
      "source": [
        "The rate at which customers using Fibre optic churn is high. This could as a result of poor service, internet connection, price or general dissatisfaction with the the service this package offers. let's further investigate to check if the cost of the monthly charges of the internet service is responsible for churn."
      ]
    },
    {
      "cell_type": "code",
      "metadata": {
        "colab": {
          "base_uri": "https://localhost:8080/",
          "height": 385
        },
        "id": "OuRb4pigVehF",
        "outputId": "f968b03d-a00e-4597-f0fa-5c6afe803dc7"
      },
      "source": [
        "sns.displot(data=data, x='MonthlyCharges',hue='Churn',col='InternetService', palette='inferno')\r\n"
      ],
      "execution_count": null,
      "outputs": [
        {
          "output_type": "execute_result",
          "data": {
            "text/plain": [
              "<seaborn.axisgrid.FacetGrid at 0x7f154b17e9b0>"
            ]
          },
          "metadata": {
            "tags": []
          },
          "execution_count": 43
        },
        {
          "output_type": "display_data",
          "data": {
            "image/png": "[encoded data removed]",
            "text/plain": [
              "<Figure size 1132x360 with 3 Axes>"
            ]
          },
          "metadata": {
            "tags": []
          }
        }
      ]
    },
    {
      "cell_type": "markdown",
      "metadata": {
        "id": "Iwz7vfRDaEuk"
      },
      "source": [
        "The monthly charges that customers using Fibre optic pay is very high  compared to DSL and of course customers who do not use the internet service at all. This could be why customers are leaving amongst several other reasons."
      ]
    },
    {
      "cell_type": "markdown",
      "metadata": {
        "id": "lSJEBHr5LULr"
      },
      "source": [
        "Online security"
      ]
    },
    {
      "cell_type": "code",
      "metadata": {
        "colab": {
          "base_uri": "https://localhost:8080/",
          "height": 513
        },
        "id": "N8RDgnS3MEE6",
        "outputId": "d8fa7d97-e856-4118-fb98-58a1f079aca5"
      },
      "source": [
        "sns.countplot(data=data, x='OnlineSecurity',hue='Churn',palette='gnuplot')"
      ],
      "execution_count": null,
      "outputs": [
        {
          "output_type": "execute_result",
          "data": {
            "text/plain": [
              "<matplotlib.axes._subplots.AxesSubplot at 0x7f154ca095c0>"
            ]
          },
          "metadata": {
            "tags": []
          },
          "execution_count": 26
        },
        {
          "output_type": "display_data",
          "data": {
            "image/png": "[encoded data removed]",
            "text/plain": [
              "<Figure size 1080x576 with 1 Axes>"
            ]
          },
          "metadata": {
            "tags": []
          }
        }
      ]
    },
    {
      "cell_type": "markdown",
      "metadata": {
        "id": "LuxzAcxpLdYM"
      },
      "source": [
        "There is a relationship betweeen churn and online security. Customers that do not use online security will most likely churn.  "
      ]
    },
    {
      "cell_type": "markdown",
      "metadata": {
        "id": "Kj3QMT77RIWb"
      },
      "source": [
        "Online Backup"
      ]
    },
    {
      "cell_type": "code",
      "metadata": {
        "colab": {
          "base_uri": "https://localhost:8080/",
          "height": 516
        },
        "id": "K_-Xf5MlIF8w",
        "outputId": "e9eb0cfd-291c-4732-8ce9-f8e1daa654ed"
      },
      "source": [
        "sns.countplot(x='OnlineBackup',data=data, hue='Churn', palette='copper')"
      ],
      "execution_count": null,
      "outputs": [
        {
          "output_type": "execute_result",
          "data": {
            "text/plain": [
              "<matplotlib.axes._subplots.AxesSubplot at 0x7f154bf61128>"
            ]
          },
          "metadata": {
            "tags": []
          },
          "execution_count": 28
        },
        {
          "output_type": "display_data",
          "data": {
            "image/png": "[encoded data removed]",
            "text/plain": [
              "<Figure size 1080x576 with 1 Axes>"
            ]
          },
          "metadata": {
            "tags": []
          }
        }
      ]
    },
    {
      "cell_type": "markdown",
      "metadata": {
        "id": "MFV6dUaBbBa5"
      },
      "source": [
        "There is almost the same number of customers that use online backup as those who do not use. Customers who do not use online backup would most likely churn."
      ]
    },
    {
      "cell_type": "markdown",
      "metadata": {
        "id": "24XugfdEe2Iv"
      },
      "source": [
        "Device Protection"
      ]
    },
    {
      "cell_type": "code",
      "metadata": {
        "colab": {
          "base_uri": "https://localhost:8080/",
          "height": 513
        },
        "id": "KM0OnL61RsEr",
        "outputId": "c1a10fc4-0d79-433a-efb5-641541e9d2ea"
      },
      "source": [
        "sns.countplot(x='DeviceProtection',data=data, hue='Churn', palette='crest')"
      ],
      "execution_count": null,
      "outputs": [
        {
          "output_type": "execute_result",
          "data": {
            "text/plain": [
              "<matplotlib.axes._subplots.AxesSubplot at 0x7f154220ca20>"
            ]
          },
          "metadata": {
            "tags": []
          },
          "execution_count": 49
        },
        {
          "output_type": "display_data",
          "data": {
            "image/png": "[encoded data removed]",
            "text/plain": [
              "<Figure size 1080x576 with 1 Axes>"
            ]
          },
          "metadata": {
            "tags": []
          }
        }
      ]
    },
    {
      "cell_type": "markdown",
      "metadata": {
        "id": "Cub1fj40ftzQ"
      },
      "source": [
        "The proportion of Customers that use device protection and those who do not are relatively the same. There is a high chance that customers who do not use device protection would churn compared to those who do."
      ]
    },
    {
      "cell_type": "markdown",
      "metadata": {
        "id": "C5WZOxYNkxzt"
      },
      "source": [
        "Tech support"
      ]
    },
    {
      "cell_type": "code",
      "metadata": {
        "colab": {
          "base_uri": "https://localhost:8080/",
          "height": 513
        },
        "id": "iyofzsbifMta",
        "outputId": "5d4fe97a-6d53-44d6-8cff-212b9b4188a8"
      },
      "source": [
        "sns.countplot(x='TechSupport',data=data, hue='Churn', palette='Paired')"
      ],
      "execution_count": null,
      "outputs": [
        {
          "output_type": "execute_result",
          "data": {
            "text/plain": [
              "<matplotlib.axes._subplots.AxesSubplot at 0x7f1542102048>"
            ]
          },
          "metadata": {
            "tags": []
          },
          "execution_count": 52
        },
        {
          "output_type": "display_data",
          "data": {
            "image/png": "[encoded data removed]",
            "text/plain": [
              "<Figure size 1080x576 with 1 Axes>"
            ]
          },
          "metadata": {
            "tags": []
          }
        }
      ]
    },
    {
      "cell_type": "markdown",
      "metadata": {
        "id": "tN6MhTfEleNw"
      },
      "source": [
        "There is a large number of Customers that do not use Tech support. A very large number of customers who do not use tech support churned. There is a high chance that customers who do not use Tech support would churn compared to those who do."
      ]
    },
    {
      "cell_type": "markdown",
      "metadata": {
        "id": "-4LWGvphma6h"
      },
      "source": [
        "Streaming TV"
      ]
    },
    {
      "cell_type": "code",
      "metadata": {
        "colab": {
          "base_uri": "https://localhost:8080/",
          "height": 513
        },
        "id": "OpCNmJaOlJXK",
        "outputId": "d5322041-2343-41d0-8f8e-8b8a964f5ed9"
      },
      "source": [
        "sns.countplot(x='StreamingTV',data=data, hue='Churn', palette='PuRd')"
      ],
      "execution_count": null,
      "outputs": [
        {
          "output_type": "execute_result",
          "data": {
            "text/plain": [
              "<matplotlib.axes._subplots.AxesSubplot at 0x7f1548da1dd8>"
            ]
          },
          "metadata": {
            "tags": []
          },
          "execution_count": 55
        },
        {
          "output_type": "display_data",
          "data": {
            "image/png": "[encoded data removed]",
            "text/plain": [
              "<Figure size 1080x576 with 1 Axes>"
            ]
          },
          "metadata": {
            "tags": []
          }
        }
      ]
    },
    {
      "cell_type": "markdown",
      "metadata": {
        "id": "a7VJ3IFEnGip"
      },
      "source": [
        "Customers who stream tv and those who do not would likely churn the same."
      ]
    },
    {
      "cell_type": "markdown",
      "metadata": {
        "id": "FPgFu-POnRVq"
      },
      "source": [
        "Streaming Movies"
      ]
    },
    {
      "cell_type": "code",
      "metadata": {
        "colab": {
          "base_uri": "https://localhost:8080/",
          "height": 515
        },
        "id": "tksxeQEJmp_A",
        "outputId": "1caf6992-f6e8-47f9-bb2d-798b266a5f00"
      },
      "source": [
        "sns.countplot(x='StreamingMovies',data=data, hue='Churn', palette='BuPu')"
      ],
      "execution_count": null,
      "outputs": [
        {
          "output_type": "execute_result",
          "data": {
            "text/plain": [
              "<matplotlib.axes._subplots.AxesSubplot at 0x7f154218ba90>"
            ]
          },
          "metadata": {
            "tags": []
          },
          "execution_count": 58
        },
        {
          "output_type": "display_data",
          "data": {
            "image/png": "[encoded data removed]",
            "text/plain": [
              "<Figure size 1080x576 with 1 Axes>"
            ]
          },
          "metadata": {
            "tags": []
          }
        }
      ]
    },
    {
      "cell_type": "markdown",
      "metadata": {
        "id": "2Kx9j-OkobJf"
      },
      "source": [
        "Customers who stream movies and those who do not would like churn the same."
      ]
    },
    {
      "cell_type": "markdown",
      "metadata": {
        "id": "K34UA2pooqb2"
      },
      "source": [
        "Contract"
      ]
    },
    {
      "cell_type": "code",
      "metadata": {
        "colab": {
          "base_uri": "https://localhost:8080/",
          "height": 513
        },
        "id": "VVQ7lPtInpF8",
        "outputId": "057c3db3-27d4-4ce4-cb00-7bb37640f379"
      },
      "source": [
        "sns.countplot(x='Contract',data=data, hue='Churn', palette='Pastel2')"
      ],
      "execution_count": null,
      "outputs": [
        {
          "output_type": "execute_result",
          "data": {
            "text/plain": [
              "<matplotlib.axes._subplots.AxesSubplot at 0x7f1541e7f2e8>"
            ]
          },
          "metadata": {
            "tags": []
          },
          "execution_count": 63
        },
        {
          "output_type": "display_data",
          "data": {
            "image/png": "[encoded data removed]",
            "text/plain": [
              "<Figure size 1080x576 with 1 Axes>"
            ]
          },
          "metadata": {
            "tags": []
          }
        }
      ]
    },
    {
      "cell_type": "markdown",
      "metadata": {
        "id": "dUuw58O5pC1u"
      },
      "source": [
        "From our chart, we can see that most customers prefer to use the month to month service, this could be because most of the customers are new and the company has not earned their loyalty yet. Customers who  subscribes monthly tend to churn the most. The longer a customer's contract is with the company the less likely they are to churn."
      ]
    },
    {
      "cell_type": "markdown",
      "metadata": {
        "id": "3hSdj-uwpjBc"
      },
      "source": [
        "PaperlessBilling"
      ]
    },
    {
      "cell_type": "code",
      "metadata": {
        "colab": {
          "base_uri": "https://localhost:8080/",
          "height": 513
        },
        "id": "d48cL3CRos_N",
        "outputId": "ead74df1-9a6e-46ee-a9d4-6e9d9542292d"
      },
      "source": [
        "sns.countplot(x='PaperlessBilling',data=data, hue='Churn', palette='Accent')"
      ],
      "execution_count": null,
      "outputs": [
        {
          "output_type": "execute_result",
          "data": {
            "text/plain": [
              "<matplotlib.axes._subplots.AxesSubplot at 0x7f1541dc2320>"
            ]
          },
          "metadata": {
            "tags": []
          },
          "execution_count": 66
        },
        {
          "output_type": "display_data",
          "data": {
            "image/png": "[encoded data removed]",
            "text/plain": [
              "<Figure size 1080x576 with 1 Axes>"
            ]
          },
          "metadata": {
            "tags": []
          }
        }
      ]
    },
    {
      "cell_type": "markdown",
      "metadata": {
        "id": "tfgNu6_CpBf0"
      },
      "source": [
        "There is a higher number of customers who use paperless billings to those who do not."
      ]
    },
    {
      "cell_type": "markdown",
      "metadata": {
        "id": "bFtOCHRwqU1O"
      },
      "source": [
        "Payment Method"
      ]
    },
    {
      "cell_type": "code",
      "metadata": {
        "colab": {
          "base_uri": "https://localhost:8080/",
          "height": 513
        },
        "id": "u25dlT3CqP1c",
        "outputId": "a45c498d-f779-4bf6-9175-d64c1753f603"
      },
      "source": [
        "sns.countplot(x='PaymentMethod',data=data, hue='Churn', palette='Reds')"
      ],
      "execution_count": null,
      "outputs": [
        {
          "output_type": "execute_result",
          "data": {
            "text/plain": [
              "<matplotlib.axes._subplots.AxesSubplot at 0x7f1541d35c50>"
            ]
          },
          "metadata": {
            "tags": []
          },
          "execution_count": 68
        },
        {
          "output_type": "display_data",
          "data": {
            "image/png": "[encoded data removed]",
            "text/plain": [
              "<Figure size 1080x576 with 1 Axes>"
            ]
          },
          "metadata": {
            "tags": []
          }
        }
      ]
    },
    {
      "cell_type": "markdown",
      "metadata": {
        "id": "rPaS-ADCq0WD"
      },
      "source": [
        "The number of customers using the 4 methods of payment is equally distributed. Customers using the electronic check methood churned the most."
      ]
    },
    {
      "cell_type": "markdown",
      "metadata": {
        "id": "j-zMz47jwJBe"
      },
      "source": [
        "Monthly Charges"
      ]
    },
    {
      "cell_type": "markdown",
      "metadata": {
        "id": "S9GiQBG6wLtK"
      },
      "source": [
        "This is a numerical variable that tells the amount customers pay in a month for the services they are offered. Could this be why customers are leaving the company?"
      ]
    },
    {
      "cell_type": "code",
      "metadata": {
        "id": "oi7EBlMFrglV",
        "colab": {
          "base_uri": "https://localhost:8080/",
          "height": 745
        },
        "outputId": "f303c8af-a3f7-4ff4-e72f-dcb4037d4868"
      },
      "source": [
        "sns.displot(x='MonthlyCharges',data=data, hue='Churn', palette='gist_stern',aspect=1, height=10 )"
      ],
      "execution_count": null,
      "outputs": [
        {
          "output_type": "execute_result",
          "data": {
            "text/plain": [
              "<seaborn.axisgrid.FacetGrid at 0x7fe3ef844fd0>"
            ]
          },
          "metadata": {
            "tags": []
          },
          "execution_count": 48
        },
        {
          "output_type": "display_data",
          "data": {
            "image/png": "[encoded data removed]",
            "text/plain": [
              "<Figure size 772x720 with 1 Axes>"
            ]
          },
          "metadata": {
            "tags": []
          }
        }
      ]
    },
    {
      "cell_type": "markdown",
      "metadata": {
        "id": "Wt39eIYtzQRA"
      },
      "source": [
        "From the chart, there is a very high number of customers that pay between 20 to 35 (units were not stated) and they are less likely to churn. This could be due to the fact that they get satisfaction from the package they subscribe for. Customers who pay high monthly charges are more likely to churn the most. This could be as a result of paying such high charges for packages without being satisfied."
      ]
    },
    {
      "cell_type": "markdown",
      "metadata": {
        "id": "J_fqMc2c4LxH"
      },
      "source": [
        "Total Charges"
      ]
    },
    {
      "cell_type": "markdown",
      "metadata": {
        "id": "8Afk3oPh4SRZ"
      },
      "source": [
        "This is a numerical variable that tells the total amount customers pay  for the services they are offered. The unit for this variable was not stated."
      ]
    },
    {
      "cell_type": "code",
      "metadata": {
        "colab": {
          "base_uri": "https://localhost:8080/",
          "height": 745
        },
        "id": "s6DQuPTzxJOr",
        "outputId": "8050c645-23e3-441c-ffbd-5e725046a159"
      },
      "source": [
        "sns.displot(x='TotalCharges',data=data, hue='Churn', palette='inferno', aspect=1, height=10)"
      ],
      "execution_count": null,
      "outputs": [
        {
          "output_type": "execute_result",
          "data": {
            "text/plain": [
              "<seaborn.axisgrid.FacetGrid at 0x7fe3efaef438>"
            ]
          },
          "metadata": {
            "tags": []
          },
          "execution_count": 42
        },
        {
          "output_type": "display_data",
          "data": {
            "image/png": "[encoded data removed]",
            "text/plain": [
              "<Figure size 772x720 with 1 Axes>"
            ]
          },
          "metadata": {
            "tags": []
          }
        }
      ]
    },
    {
      "cell_type": "markdown",
      "metadata": {
        "id": "97o4677P8WPa"
      },
      "source": [
        "# INSIGHTS"
      ]
    },
    {
      "cell_type": "markdown",
      "metadata": {
        "id": "dR9HMckE8a2E"
      },
      "source": [
        "From our investigation above, we can conclude that tenure, payment method,tech support,contract,device protection, monthly charges,online backup, online security and internet service all contribute to the reason why customers leave the company.\r\n",
        "\r\n",
        "Customers that did not use the services(device protection,tech support,online security and online backup) would most likely churn.This could be as a result of dissatisfaction after subscribing for packages which did not include all of the above services or customers were not aware of other packages which would include all of these services or the other packages were too expensive to afford. This could have contributed to why customers are leaving the company. \r\n",
        "\r\n",
        "A very large number of customers that used Electronic check for payment left the company. This  could be linked to several other factors. This should be further investigated.\r\n",
        "\r\n",
        "From our visualization, we can see that the rate at which customers  churned for the first 6 month is very high. There is a possibility that customers pay more for the services offered by Telco compared to what they pay previously. We need to investigate further why new customers tend to leave the company after their first few months.\r\n",
        "\r\n",
        "Customers using the Fibre optic are very likely to churn from the company this could be as a result of dissatisfaction, price or other companies offer the same services at a cheaper rate (competition). \r\n",
        "\r\n",
        "Customers who subscribed monthly also churned the most, probably because other companies had a lot more to offer at a reduced rate.It can be said that new customers are not loyal to the company.\r\n",
        "\r\n",
        "There is a possibility that the high number of customers that churned after their first few months could be related to the internet service used, payment method, services subscribed for and those not subscribed for and the charges the customers paid monthly. \r\n",
        "\r\n"
      ]
    },
    {
      "cell_type": "markdown",
      "metadata": {
        "id": "PDThBT5rIlEU"
      },
      "source": [
        "# Possible Solution"
      ]
    },
    {
      "cell_type": "markdown",
      "metadata": {
        "id": "oTXP9jCuItWK"
      },
      "source": [
        "Telco should focus on providing services that would make recent customers loyal. New customers should be made aware of the several internet services available and the packages that comes with each.\r\n",
        "\r\n",
        "Customers should also be informed on the several service options available, this would help them to be better informed and select services that would give them more satisfaction. This would help reduce the number of customers leaving the company.\r\n",
        "\r\n",
        " The company should also investigate why most customers that use fibre optic churned, if this is as a result of competition from other companies then packages can be introduced to new customers which would help keep them.These packages can also be subsidized for recent customers."
      ]
    },
    {
      "cell_type": "code",
      "metadata": {
        "id": "EXdV9St95Ck6"
      },
      "source": [
        ""
      ],
      "execution_count": null,
      "outputs": []
    }
  ]
}